{
 "cells": [
  {
   "cell_type": "code",
   "execution_count": 1,
   "metadata": {},
   "outputs": [],
   "source": [
    "import torch\n",
    "from torch import nn\n",
    "from torchvision.transforms import Compose\n",
    "from torch.utils.data import Dataset,DataLoader\n",
    "from torch.optim import SGD\n",
    "\n",
    "\n",
    "from sklearn.datasets import load_iris\n",
    "\n",
    "import numpy as np\n",
    "import matplotlib.pyplot as plt"
   ]
  },
  {
   "cell_type": "code",
   "execution_count": 2,
   "metadata": {},
   "outputs": [],
   "source": [
    "class IrisData(Dataset):\n",
    "    def __init__(self,transforms = None):\n",
    "        X,y = load_iris(return_X_y=True)\n",
    "        \n",
    "        self.X = torch.FloatTensor(X)\n",
    "        self.y = torch.LongTensor(y)\n",
    "        \n",
    "        self.len = X.shape[0]\n",
    "        \n",
    "        self.transforms = transforms\n",
    "        \n",
    "        self.mu = self.X.mean(0)\n",
    "        self.std = self.X.std(0)\n",
    "        \n",
    "    def __getitem__(self,index):\n",
    "        sample = self.X[index],self.y[index]\n",
    "        \n",
    "        if self.transforms:\n",
    "            sample = self.transforms(sample)\n",
    "            \n",
    "        return sample\n",
    "    \n",
    "    def __len__(self):\n",
    "        return self.len "
   ]
  },
  {
   "cell_type": "code",
   "execution_count": 3,
   "metadata": {},
   "outputs": [],
   "source": [
    "class Standard_Normalization(object):\n",
    "    def __init__(self,mu,std):\n",
    "        self.mu = mu\n",
    "        self.std = std\n",
    "        \n",
    "    def __call__(self,sample):\n",
    "        x = sample[0]\n",
    "        y = sample[1]\n",
    "        \n",
    "        x = (x-self.mu)/self.std\n",
    "        \n",
    "        return x,y"
   ]
  },
  {
   "cell_type": "code",
   "execution_count": 4,
   "metadata": {},
   "outputs": [],
   "source": [
    "class DNN(nn.Module):\n",
    "    def __init__(self,layers):\n",
    "        super(DNN,self).__init__()\n",
    "        self.hidden = nn.ModuleList()\n",
    "        \n",
    "        for input_size,output_size in zip(layers,layers[1:]):\n",
    "            self.hidden.append(nn.Linear(input_size,output_size))\n",
    "            \n",
    "    def forward(self,x):\n",
    "        n_layers = len(self.hidden)\n",
    "        for l,layer in zip(range(n_layers),self.hidden):\n",
    "            x = layer(x)\n",
    "            \n",
    "            if l < n_layers-1:\n",
    "                x = torch.relu(x)\n",
    "                \n",
    "        return x"
   ]
  },
  {
   "cell_type": "code",
   "execution_count": 5,
   "metadata": {},
   "outputs": [],
   "source": [
    "dataset = IrisData()\n",
    "transforms = Standard_Normalization(dataset.mu,dataset.std)\n",
    "dataset.transforms = transforms\n",
    "\n",
    "batch_size = len(dataset)\n",
    "\n",
    "dataloader = DataLoader(dataset,batch_size = batch_size)"
   ]
  },
  {
   "cell_type": "code",
   "execution_count": 6,
   "metadata": {},
   "outputs": [],
   "source": [
    "Layers =[4,10,20,20,20,10,5,3]\n",
    "model = DNN(Layers)"
   ]
  },
  {
   "cell_type": "code",
   "execution_count": 7,
   "metadata": {},
   "outputs": [
    {
     "data": {
      "text/plain": [
       "<bound method Module.parameters of DNN(\n",
       "  (hidden): ModuleList(\n",
       "    (0): Linear(in_features=4, out_features=10, bias=True)\n",
       "    (1): Linear(in_features=10, out_features=20, bias=True)\n",
       "    (2): Linear(in_features=20, out_features=20, bias=True)\n",
       "    (3): Linear(in_features=20, out_features=20, bias=True)\n",
       "    (4): Linear(in_features=20, out_features=10, bias=True)\n",
       "    (5): Linear(in_features=10, out_features=5, bias=True)\n",
       "    (6): Linear(in_features=5, out_features=3, bias=True)\n",
       "  )\n",
       ")>"
      ]
     },
     "execution_count": 7,
     "metadata": {},
     "output_type": "execute_result"
    }
   ],
   "source": [
    "model.parameters"
   ]
  },
  {
   "cell_type": "code",
   "execution_count": 8,
   "metadata": {},
   "outputs": [],
   "source": [
    "criterion = nn.CrossEntropyLoss()\n",
    "\n",
    "lr=0.05\n",
    "optimizer = SGD(model.parameters(),lr=lr)"
   ]
  },
  {
   "cell_type": "code",
   "execution_count": 9,
   "metadata": {},
   "outputs": [
    {
     "name": "stdout",
     "output_type": "stream",
     "text": [
      "Epoch 1: loss=1.1714571714401245\n",
      "Epoch 100: loss=1.0918309688568115\n",
      "Epoch 200: loss=0.9645723700523376\n",
      "Epoch 300: loss=0.501221776008606\n",
      "Epoch 400: loss=0.28350111842155457\n",
      "Epoch 500: loss=0.17259232699871063\n",
      "Epoch 600: loss=0.11355477571487427\n",
      "Epoch 700: loss=0.0812254250049591\n",
      "Epoch 800: loss=0.062430739402770996\n",
      "Epoch 900: loss=0.05178926885128021\n",
      "Epoch 1000: loss=0.04568152129650116\n",
      "Epoch 1100: loss=0.0419115386903286\n",
      "Epoch 1200: loss=0.039467550814151764\n",
      "Epoch 1300: loss=0.03783140331506729\n",
      "Epoch 1400: loss=0.03667198866605759\n",
      "Epoch 1500: loss=0.03582369536161423\n",
      "Epoch 1600: loss=0.03517792001366615\n",
      "Epoch 1700: loss=0.03466839715838432\n",
      "Epoch 1800: loss=0.03425594046711922\n",
      "Epoch 1900: loss=0.03392547741532326\n",
      "Epoch 2000: loss=0.033662762492895126\n",
      "Epoch 2100: loss=0.03344321995973587\n",
      "Epoch 2200: loss=0.03324342146515846\n",
      "Epoch 2300: loss=0.03307556360960007\n",
      "Epoch 2400: loss=0.032931651920080185\n",
      "Epoch 2500: loss=0.032788679003715515\n",
      "Epoch 2600: loss=0.03265215829014778\n",
      "Epoch 2700: loss=0.03254209831357002\n",
      "Epoch 2800: loss=0.03241407498717308\n",
      "Epoch 2900: loss=0.032295651733875275\n",
      "Epoch 3000: loss=0.032179418951272964\n",
      "Epoch 3100: loss=0.032076966017484665\n",
      "Epoch 3200: loss=0.03198516368865967\n",
      "Epoch 3300: loss=0.03185774013400078\n",
      "Epoch 3400: loss=0.031762346625328064\n",
      "Epoch 3500: loss=0.03164360299706459\n",
      "Epoch 3600: loss=0.03154461085796356\n",
      "Epoch 3700: loss=0.03140668943524361\n",
      "Epoch 3800: loss=0.03129354119300842\n",
      "Epoch 3900: loss=0.03117002174258232\n",
      "Epoch 4000: loss=0.031042849645018578\n",
      "Epoch 4100: loss=0.030912533402442932\n",
      "Epoch 4200: loss=0.030779104679822922\n",
      "Epoch 4300: loss=0.030632171779870987\n",
      "Epoch 4400: loss=0.030475381761789322\n",
      "Epoch 4500: loss=0.03032194823026657\n",
      "Epoch 4600: loss=0.030154699459671974\n",
      "Epoch 4700: loss=0.02995852753520012\n",
      "Epoch 4800: loss=0.02979414537549019\n",
      "Epoch 4900: loss=0.029592005535960197\n",
      "Epoch 5000: loss=0.029332729056477547\n"
     ]
    }
   ],
   "source": [
    "num_epochs = 5000\n",
    "print_every = 100\n",
    "LOSS = []\n",
    "for epoch in range(num_epochs):\n",
    "    total_loss = 0\n",
    "    for x,y in dataloader:\n",
    "        output = model(x)\n",
    "        \n",
    "        loss = criterion(output,y)\n",
    "        \n",
    "        optimizer.zero_grad()\n",
    "        \n",
    "        loss.backward()\n",
    "        \n",
    "        optimizer.step()\n",
    "        \n",
    "        total_loss += loss.detach().item()*x.shape[0]\n",
    "        \n",
    "    LOSS.append(total_loss/len(dataset))\n",
    "    if (epoch+1) % print_every == 0 or epoch==0:\n",
    "        print(\"Epoch {}: loss={}\".format(epoch+1,total_loss/len(dataset)))"
   ]
  },
  {
   "cell_type": "code",
   "execution_count": 10,
   "metadata": {},
   "outputs": [
    {
     "name": "stdout",
     "output_type": "stream",
     "text": [
      "tensor(0.9933)\n"
     ]
    }
   ],
   "source": [
    "with torch.no_grad():\n",
    "    y_pred = model(dataset[:][0]).argmax(1)\n",
    "    print((y_pred==dataset.y).type(torch.FloatTensor).mean())"
   ]
  },
  {
   "cell_type": "code",
   "execution_count": 15,
   "metadata": {},
   "outputs": [
    {
     "data": {
      "image/png": "[encoded data removed]",
      "text/plain": [
       "<Figure size 432x288 with 1 Axes>"
      ]
     },
     "metadata": {
      "needs_background": "light"
     },
     "output_type": "display_data"
    }
   ],
   "source": [
    "plt.plot(list(range(num_epochs)),LOSS,linewidth=5)\n",
    "plt.xlabel(\"Epoch\",fontsize=30)\n",
    "plt.title(\"Training Curve\",fontsize=30)\n",
    "plt.ylabel(\"Cross Entropy Loss\",fontsize=20)\n",
    "plt.show()"
   ]
  },
  {
   "cell_type": "code",
   "execution_count": null,
   "metadata": {},
   "outputs": [],
   "source": []
  }
 ],
 "metadata": {
  "kernelspec": {
   "display_name": "Python 3",
   "language": "python",
   "name": "python3"
  },
  "language_info": {
   "codemirror_mode": {
    "name": "ipython",
    "version": 3
   },
   "file_extension": ".py",
   "mimetype": "text/x-python",
   "name": "python",
   "nbconvert_exporter": "python",
   "pygments_lexer": "ipython3",
   "version": "3.7.4"
  }
 },
 "nbformat": 4,
 "nbformat_minor": 4
}
