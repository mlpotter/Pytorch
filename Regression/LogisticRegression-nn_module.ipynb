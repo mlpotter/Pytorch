{
 "cells": [
  {
   "cell_type": "code",
   "execution_count": 1,
   "metadata": {},
   "outputs": [],
   "source": [
    "import torch\n",
    "\n",
    "from torch import nn\n",
    "from torch.utils.data import Dataset,DataLoader\n",
    "from torchvision.transforms import Compose\n",
    "from torch.optim import SGD\n",
    "\n",
    "import matplotlib.pyplot as plt\n",
    "import numpy as np\n",
    "\n",
    "from sklearn.datasets import load_breast_cancer"
   ]
  },
  {
   "cell_type": "code",
   "execution_count": 2,
   "metadata": {},
   "outputs": [],
   "source": [
    "class Cancer_Dataset(Dataset):\n",
    "    \n",
    "    def __init__(self,transforms=None):\n",
    "        X,y = load_breast_cancer(return_X_y=True)\n",
    "        \n",
    "        self.mu = torch.tensor(np.mean(X,0),dtype=torch.float32).view(1,-1)\n",
    "        self.sd = torch.tensor(np.std(X,0),dtype=torch.float32).view(1,-1)\n",
    "        \n",
    "        self.x = torch.FloatTensor(X)\n",
    "        self.y = torch.LongTensor(y)\n",
    "        \n",
    "        self.transforms = transforms\n",
    "        self.len = X.shape[0]\n",
    "        \n",
    "        print(\"Dataset Constructed\")\n",
    "        \n",
    "    def __getitem__(self,index):\n",
    "        sample = self.x[index],self.y[index]\n",
    "        \n",
    "        if self.transforms:\n",
    "            sample = self.transforms(sample)\n",
    "        \n",
    "        return sample\n",
    "    \n",
    "    def __len__(self):\n",
    "        return self.len"
   ]
  },
  {
   "cell_type": "code",
   "execution_count": 3,
   "metadata": {},
   "outputs": [],
   "source": [
    "class Standard_Normalizer(object):\n",
    "    def __init__(self,mu,std):\n",
    "        self.mu = mu\n",
    "        self.std = std\n",
    "        \n",
    "        print(\"Standard Normalizer Constructed\")\n",
    "        \n",
    "    def __call__(self,sample):\n",
    "        x = sample[0]\n",
    "        y = sample[1]\n",
    "        \n",
    "        x = (x-self.mu)/self.std\n",
    "        sample = x,y\n",
    "        return sample"
   ]
  },
  {
   "cell_type": "code",
   "execution_count": 4,
   "metadata": {},
   "outputs": [],
   "source": [
    "class Logistic_Regression(nn.Module):\n",
    "    \n",
    "    def __init__(self,num_input=1,num_classes=2):\n",
    "        super(Logistic_Regression,self).__init__()\n",
    "        self.Linear_Regression = nn.Linear(num_input,num_classes)\n",
    "        self.Softmax = nn.Softmax(2)\n",
    "        \n",
    "    def forward(self,x):\n",
    "        z = self.Linear_Regression(x)\n",
    "        y = self.Softmax(z)\n",
    "        return y"
   ]
  },
  {
   "cell_type": "code",
   "execution_count": 5,
   "metadata": {},
   "outputs": [],
   "source": [
    "criterion = torch.nn.NLLLoss()"
   ]
  },
  {
   "cell_type": "code",
   "execution_count": 6,
   "metadata": {},
   "outputs": [
    {
     "name": "stdout",
     "output_type": "stream",
     "text": [
      "Dataset Constructed\n",
      "Standard Normalizer Constructed\n"
     ]
    }
   ],
   "source": [
    "dataset = Cancer_Dataset()\n",
    "normalizer = Standard_Normalizer(dataset.mu,dataset.sd)\n",
    "dataset.transforms = normalizer"
   ]
  },
  {
   "cell_type": "code",
   "execution_count": 7,
   "metadata": {
    "scrolled": false
   },
   "outputs": [],
   "source": [
    "model = Logistic_Regression(30,2)"
   ]
  },
  {
   "cell_type": "code",
   "execution_count": 8,
   "metadata": {},
   "outputs": [],
   "source": [
    "batch_size = 32\n",
    "dataloader = DataLoader(dataset=dataset,batch_size=batch_size)"
   ]
  },
  {
   "cell_type": "code",
   "execution_count": 9,
   "metadata": {},
   "outputs": [],
   "source": [
    "lr = 0.1\n",
    "optimizer = SGD(model.parameters(),lr=lr)"
   ]
  },
  {
   "cell_type": "code",
   "execution_count": 10,
   "metadata": {
    "scrolled": true
   },
   "outputs": [
    {
     "name": "stdout",
     "output_type": "stream",
     "text": [
      "Epoch 1: loss=-0.7502217690149943\n",
      "Epoch 2: loss=-0.8834092451466454\n",
      "Epoch 3: loss=-0.9076853758758969\n",
      "Epoch 4: loss=-0.9198380808035532\n",
      "Epoch 5: loss=-0.9278127219941881\n",
      "Epoch 6: loss=-0.9338585899935828\n",
      "Epoch 7: loss=-0.938512020640903\n",
      "Epoch 8: loss=-0.9420249462127686\n",
      "Epoch 9: loss=-0.9447945422596402\n",
      "Epoch 10: loss=-0.9470566444926791\n"
     ]
    }
   ],
   "source": [
    "print_every = 1\n",
    "\n",
    "for epoch in range(10):\n",
    "    l = []\n",
    "    for x,y in dataloader:\n",
    "        y_pred = model(x)\n",
    "        \n",
    "        loss = criterion(y_pred.squeeze(),y)\n",
    "        l.append(loss.detach().item())\n",
    "\n",
    "        optimizer.zero_grad()\n",
    "        \n",
    "        loss.backward()\n",
    "        \n",
    "        optimizer.step()\n",
    "        \n",
    "        \n",
    "\n",
    "    if (epoch+1) % print_every == 0:\n",
    "        print(\"Epoch {}: loss={}\".format(epoch+1,np.mean(l)))"
   ]
  },
  {
   "cell_type": "code",
   "execution_count": 11,
   "metadata": {},
   "outputs": [],
   "source": [
    "with torch.no_grad():\n",
    "    predictions = []\n",
    "    for x,y in dataset:\n",
    "        y_pred = model(x.unsqueeze(0))\n",
    "        predictions.append(y_pred.argmax().item())"
   ]
  },
  {
   "cell_type": "code",
   "execution_count": 12,
   "metadata": {},
   "outputs": [
    {
     "name": "stdout",
     "output_type": "stream",
     "text": [
      "Accuracy 0.984182776801406\n"
     ]
    }
   ],
   "source": [
    "print(\"Accuracy\",np.mean(dataset.y.numpy() == np.array(predictions)))"
   ]
  }
 ],
 "metadata": {
  "kernelspec": {
   "display_name": "Python 3",
   "language": "python",
   "name": "python3"
  },
  "language_info": {
   "codemirror_mode": {
    "name": "ipython",
    "version": 3
   },
   "file_extension": ".py",
   "mimetype": "text/x-python",
   "name": "python",
   "nbconvert_exporter": "python",
   "pygments_lexer": "ipython3",
   "version": "3.7.4"
  }
 },
 "nbformat": 4,
 "nbformat_minor": 4
}
