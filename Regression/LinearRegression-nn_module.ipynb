{
 "cells": [
  {
   "cell_type": "code",
   "execution_count": 1,
   "metadata": {},
   "outputs": [],
   "source": [
    "import torch\n",
    "import numpy as np\n",
    "\n",
    "from torch.utils.data import Dataset,DataLoader\n",
    "from torch import nn\n",
    "from torchvision.transforms import Compose\n",
    "from torch.optim import SGD\n",
    "\n",
    "import matplotlib.pyplot as plt"
   ]
  },
  {
   "cell_type": "code",
   "execution_count": 2,
   "metadata": {},
   "outputs": [],
   "source": [
    "class Toy_Dataset(Dataset):\n",
    "    \n",
    "    def __init__(self,length=100,slope=.7,intercept=-1,noise_mean=0.0,noise_std=1.0,transforms=None):\n",
    "        self.len = length\n",
    "        self.transforms = transforms\n",
    "        \n",
    "        self.slope = slope\n",
    "        self.intercept = intercept\n",
    "        \n",
    "        m = torch.distributions.normal.Normal(torch.tensor([float(noise_mean)]),torch.tensor([float(noise_std)]))\n",
    "\n",
    "        self.noise = m.sample(torch.Size([int(length)])).view(-1,1).type(torch.float32)\n",
    "        self.x = torch.linspace(-10,10,steps=length,dtype=torch.float32).view(-1,1)\n",
    "        self.y = self.x*slope + intercept + self.noise\n",
    "        \n",
    "        self.mu = self.x.mean(0)\n",
    "        self.std = self.x.std(0)\n",
    "        \n",
    "        print(\"Dataset Constucted\")\n",
    "        \n",
    "    def __getitem__(self,index):\n",
    "        sample = self.x[index],self.y[index]\n",
    "        \n",
    "        if self.transforms:\n",
    "            sample = self.transforms(sample)\n",
    "            \n",
    "        return sample\n",
    "    \n",
    "    def __len__(self):\n",
    "        return self.len"
   ]
  },
  {
   "cell_type": "code",
   "execution_count": 3,
   "metadata": {},
   "outputs": [],
   "source": [
    "class Standard_Normalizer(object):\n",
    "    def __init__(self,mu,sd):\n",
    "        self.std = float(sd)\n",
    "        self.mu = float(mu)\n",
    "        \n",
    "        print(\"Standard Normalizer Constructed\")\n",
    "        \n",
    "    def __call__(self,sample):\n",
    "        x = sample[0]\n",
    "        y = sample[1]\n",
    "        \n",
    "        x = (x-self.mu)/self.std\n",
    "        \n",
    "        sample = x,y\n",
    "        return sample"
   ]
  },
  {
   "cell_type": "code",
   "execution_count": 4,
   "metadata": {},
   "outputs": [],
   "source": [
    "class Linear_Regression(nn.Module):\n",
    "    \n",
    "    def __init__(self,num_in=1,num_out=1):\n",
    "        super(Linear_Regression,self).__init__()\n",
    "        self.LR = nn.Linear(1,1)\n",
    "        \n",
    "        print(\"Linear Regression Constructed\")\n",
    "        \n",
    "    def forward(self,x):\n",
    "        return self.LR(x)"
   ]
  },
  {
   "cell_type": "code",
   "execution_count": 5,
   "metadata": {},
   "outputs": [],
   "source": [
    "class Loss_Function(object):\n",
    "    \n",
    "    @staticmethod\n",
    "    def MSE(y_pred,y):\n",
    "        return torch.mean((y_pred-y)**2)\n",
    "    \n",
    "    @staticmethod\n",
    "    def MAE(y_pred,y):\n",
    "        return torch.mean(torch.abs(y_pred-y))"
   ]
  },
  {
   "cell_type": "code",
   "execution_count": 6,
   "metadata": {},
   "outputs": [
    {
     "name": "stdout",
     "output_type": "stream",
     "text": [
      "Dataset Constucted\n",
      "Standard Normalizer Constructed\n"
     ]
    }
   ],
   "source": [
    "dataset = Toy_Dataset(length=500,noise_mean=0,noise_std=1.5)\n",
    "normalizer = Standard_Normalizer(dataset.mu,dataset.std)\n",
    "dataset.transforms = normalizer"
   ]
  },
  {
   "cell_type": "code",
   "execution_count": 7,
   "metadata": {},
   "outputs": [],
   "source": [
    "batch_size = 32\n",
    "dataloader = DataLoader(dataset=dataset,batch_size=batch_size)"
   ]
  },
  {
   "cell_type": "code",
   "execution_count": 8,
   "metadata": {},
   "outputs": [
    {
     "name": "stdout",
     "output_type": "stream",
     "text": [
      "Linear Regression Constructed\n"
     ]
    }
   ],
   "source": [
    "model = Linear_Regression()"
   ]
  },
  {
   "cell_type": "code",
   "execution_count": 9,
   "metadata": {},
   "outputs": [],
   "source": [
    "lr = 0.1\n",
    "optimizer = SGD(model.parameters(),lr=lr)"
   ]
  },
  {
   "cell_type": "code",
   "execution_count": 10,
   "metadata": {},
   "outputs": [
    {
     "name": "stdout",
     "output_type": "stream",
     "text": [
      "Epoch 1: Loss=7.959491513669491\n",
      "Epoch 2: Loss=2.354519836604595\n",
      "Epoch 3: Loss=2.199658013880253\n",
      "Epoch 4: Loss=2.1946593523025513\n",
      "Epoch 5: Loss=2.1949229910969734\n",
      "Epoch 6: Loss=2.1948879063129425\n",
      "Epoch 7: Loss=2.1948919221758842\n",
      "Epoch 8: Loss=2.1948914974927902\n",
      "Epoch 9: Loss=2.194891542196274\n",
      "Epoch 10: Loss=2.194891534745693\n"
     ]
    }
   ],
   "source": [
    "num_epochs = 10\n",
    "print_every = 1\n",
    "\n",
    "for epoch in range(num_epochs):\n",
    "    mean_loss = []\n",
    "    for x,y in dataloader:\n",
    "        \n",
    "        y_pred = model(x)\n",
    "        \n",
    "        loss = Loss_Function.MSE(y_pred,y)\n",
    "        mean_loss.append(loss.detach().item())\n",
    "                \n",
    "        optimizer.zero_grad()\n",
    "        \n",
    "        loss.backward()\n",
    "\n",
    "        optimizer.step()\n",
    "                \n",
    "\n",
    "    if (epoch+1) % print_every == 0:\n",
    "        print(\"Epoch {}: Loss={}\".format(epoch+1,np.mean(mean_loss)))"
   ]
  },
  {
   "cell_type": "code",
   "execution_count": 11,
   "metadata": {},
   "outputs": [],
   "source": [
    "y_predictions = []\n",
    "with torch.no_grad():\n",
    "    for x,y in dataset:\n",
    "            y_predictions.append(model(x).item())"
   ]
  },
  {
   "cell_type": "code",
   "execution_count": 12,
   "metadata": {},
   "outputs": [
    {
     "data": {
      "image/png": "[encoded data removed]",
      "text/plain": [
       "<Figure size 432x288 with 1 Axes>"
      ]
     },
     "metadata": {
      "needs_background": "light"
     },
     "output_type": "display_data"
    }
   ],
   "source": [
    "plt.plot(dataset.x.numpy(),dataset.y.numpy(),label=\"Toy Dataset\")\n",
    "plt.plot(dataset.x.numpy(),y_predictions,label=\"Regression Fit\")\n",
    "plt.xlabel(\"x\"), plt.ylabel(\"y\")\n",
    "plt.legend()\n",
    "plt.show()"
   ]
  }
 ],
 "metadata": {
  "kernelspec": {
   "display_name": "Python 3",
   "language": "python",
   "name": "python3"
  },
  "language_info": {
   "codemirror_mode": {
    "name": "ipython",
    "version": 3
   },
   "file_extension": ".py",
   "mimetype": "text/x-python",
   "name": "python",
   "nbconvert_exporter": "python",
   "pygments_lexer": "ipython3",
   "version": "3.7.4"
  }
 },
 "nbformat": 4,
 "nbformat_minor": 4
}
