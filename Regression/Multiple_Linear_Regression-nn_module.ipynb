{
 "cells": [
  {
   "cell_type": "code",
   "execution_count": 10,
   "metadata": {},
   "outputs": [],
   "source": [
    "import torch\n",
    "from torch import nn\n",
    "\n",
    "\n",
    "from torch.optim import SGD\n",
    "from torchvision.transforms import Compose\n",
    "from torch.utils.data import Dataset,DataLoader\n",
    "\n",
    "\n",
    "import numpy as np\n",
    "import matplotlib.pyplot as plt"
   ]
  },
  {
   "cell_type": "code",
   "execution_count": 11,
   "metadata": {},
   "outputs": [],
   "source": [
    "class Dataset2D(Dataset):\n",
    "    def __init__(self,length=100):\n",
    "        self.len = length\n",
    "        \n",
    "        self.x = torch.randint(low=-5,high=5,size=(self.len,2),dtype=torch.float32)\n",
    "        \n",
    "        self.W = torch.FloatTensor([[1,2],[2,3]])\n",
    "        self.b = torch.FloatTensor([[3,2]])\n",
    "        \n",
    "        self.y = torch.mm(self.x,self.W) + self.b\n",
    "        \n",
    "    def __getitem__(self,index):\n",
    "        return self.x[index],self.y[index]\n",
    "    \n",
    "    def __len__(self):\n",
    "        return self.len"
   ]
  },
  {
   "cell_type": "code",
   "execution_count": 12,
   "metadata": {},
   "outputs": [],
   "source": [
    "class Multiple_LR(nn.Module):\n",
    "    def __init__(self,num_in,num_out):\n",
    "        super(Multiple_LR,self).__init__()\n",
    "        self.MLR = nn.Linear(num_in,num_out)\n",
    "        \n",
    "    def forward(self,x):\n",
    "        return self.MLR(x)"
   ]
  },
  {
   "cell_type": "code",
   "execution_count": 13,
   "metadata": {},
   "outputs": [],
   "source": [
    "batch_size = 16\n",
    "lr = 0.05\n",
    "print_every = 1\n",
    "num_datapoints = 300\n",
    "num_epochs = 3"
   ]
  },
  {
   "cell_type": "code",
   "execution_count": 14,
   "metadata": {},
   "outputs": [],
   "source": [
    "dataset = Dataset2D(num_datapoints)\n",
    "train_loader = DataLoader(dataset,batch_size)"
   ]
  },
  {
   "cell_type": "code",
   "execution_count": 15,
   "metadata": {},
   "outputs": [],
   "source": [
    "model = Multiple_LR(2,2)"
   ]
  },
  {
   "cell_type": "code",
   "execution_count": 16,
   "metadata": {},
   "outputs": [],
   "source": [
    "optimizer = SGD(model.parameters(),lr=lr)"
   ]
  },
  {
   "cell_type": "code",
   "execution_count": 17,
   "metadata": {},
   "outputs": [],
   "source": [
    "criterion = nn.MSELoss()"
   ]
  },
  {
   "cell_type": "code",
   "execution_count": 18,
   "metadata": {},
   "outputs": [
    {
     "name": "stdout",
     "output_type": "stream",
     "text": [
      "Epoch 1: Loss=9.784000628872922\n",
      "Epoch 2: Loss=0.58486691744704\n",
      "Epoch 3: Loss=0.09215598082856129\n"
     ]
    }
   ],
   "source": [
    "for epoch in range(num_epochs):\n",
    "    Loss = []\n",
    "    for x,y in train_loader:\n",
    "        y_pred = model(x)\n",
    "        loss = criterion(y_pred,y)\n",
    "        \n",
    "        Loss.append(loss.detach().item())\n",
    "        \n",
    "        optimizer.zero_grad()\n",
    "        \n",
    "        loss.backward()\n",
    "        \n",
    "        optimizer.step()\n",
    "        \n",
    "    if (epoch+1) % print_every == 0:\n",
    "        print(\"Epoch {}: Loss={}\".format(epoch+1,np.mean(Loss)))"
   ]
  }
 ],
 "metadata": {
  "kernelspec": {
   "display_name": "Python 3",
   "language": "python",
   "name": "python3"
  },
  "language_info": {
   "codemirror_mode": {
    "name": "ipython",
    "version": 3
   },
   "file_extension": ".py",
   "mimetype": "text/x-python",
   "name": "python",
   "nbconvert_exporter": "python",
   "pygments_lexer": "ipython3",
   "version": "3.7.4"
  }
 },
 "nbformat": 4,
 "nbformat_minor": 4
}
