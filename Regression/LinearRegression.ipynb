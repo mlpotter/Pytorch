{
 "cells": [
  {
   "cell_type": "code",
   "execution_count": 1,
   "metadata": {},
   "outputs": [],
   "source": [
    "import torch\n",
    "import numpy as np\n",
    "\n",
    "from torch.utils.data import Dataset\n",
    "from torchvision.transforms import Compose\n",
    "\n",
    "import matplotlib.pyplot as plt"
   ]
  },
  {
   "cell_type": "code",
   "execution_count": 2,
   "metadata": {},
   "outputs": [],
   "source": [
    "class Toy_Dataset(Dataset):\n",
    "    \n",
    "    def __init__(self,length=100,slope=.7,intercept=-1,noise_mean=0.0,noise_std=1.0,transforms=None):\n",
    "        self.len = length\n",
    "        self.transforms = transforms\n",
    "        \n",
    "        self.slope = slope\n",
    "        self.intercept = intercept\n",
    "        \n",
    "        m = torch.distributions.normal.Normal(torch.tensor([float(noise_mean)]),torch.tensor([float(noise_std)]))\n",
    "\n",
    "        self.noise = m.sample(torch.Size([int(length)])).view(-1,1).type(torch.float64)\n",
    "        self.x = torch.linspace(-10,10,steps=length,dtype=torch.float64).view(-1,1)\n",
    "        self.y = self.x*slope + intercept + self.noise\n",
    "        \n",
    "        self.mu = self.x.mean(0)\n",
    "        self.std = self.x.std(0)\n",
    "        \n",
    "        print(\"Dataset Constucted\")\n",
    "        \n",
    "    def __getitem__(self,index):\n",
    "        sample = self.x[index,:].view(1,-1),self.y[index]\n",
    "        \n",
    "        if self.transforms:\n",
    "            sample = self.transforms(sample)\n",
    "            \n",
    "        return sample\n",
    "    \n",
    "    def __len__(self):\n",
    "        return self.len"
   ]
  },
  {
   "cell_type": "code",
   "execution_count": 3,
   "metadata": {},
   "outputs": [],
   "source": [
    "class Standard_Normalizer(object):\n",
    "    def __init__(self,mu,sd):\n",
    "        self.std = float(sd)\n",
    "        self.mu = float(mu)\n",
    "        \n",
    "        print(\"Standard Normalizer Constructed\")\n",
    "        \n",
    "    def __call__(self,sample):\n",
    "        x = sample[0]\n",
    "        y = sample[1]\n",
    "        \n",
    "        x = (x-self.mu)/self.std\n",
    "        \n",
    "        sample = x,y\n",
    "        return sample"
   ]
  },
  {
   "cell_type": "code",
   "execution_count": 4,
   "metadata": {},
   "outputs": [],
   "source": [
    "class Linear_Regression(object):\n",
    "    def __init__(self,num_input):\n",
    "        self.number_input_features = num_input\n",
    "        self.weights = torch.randn(size=(num_input,1),dtype=torch.float64,requires_grad=True)\n",
    "        self.bias = torch.randn(size=(1,1),dtype=torch.float64,requires_grad=True)\n",
    "\n",
    "        print(\"Linear Regression Model Constructed\")\n",
    "    \n",
    "    def __call__(self,x):\n",
    "        y = torch.mm(x,self.weights) + self.bias\n",
    "        return y\n",
    "    \n",
    "    def update(self,alpha=0.01):\n",
    "        with torch.no_grad():\n",
    "            self.weights -= self.weights.grad*alpha\n",
    "            self.bias -= self.bias.grad*alpha\n",
    "            \n",
    "            self.weights.grad.zero_()\n",
    "            self.bias.grad.zero_()"
   ]
  },
  {
   "cell_type": "code",
   "execution_count": 5,
   "metadata": {},
   "outputs": [],
   "source": [
    "class Loss_Function(object):\n",
    "    \n",
    "    @staticmethod\n",
    "    def MSE(y_pred,y):\n",
    "        return torch.mean((y_pred-y)**2)\n",
    "    \n",
    "    @staticmethod\n",
    "    def MAE(y_pred,y):\n",
    "        return torch.mean(torch.abs(y_pred-y))"
   ]
  },
  {
   "cell_type": "code",
   "execution_count": 6,
   "metadata": {},
   "outputs": [
    {
     "name": "stdout",
     "output_type": "stream",
     "text": [
      "Dataset Constucted\n"
     ]
    }
   ],
   "source": [
    "dataset = Toy_Dataset(noise_mean=0,noise_std=1.5)"
   ]
  },
  {
   "cell_type": "code",
   "execution_count": 7,
   "metadata": {},
   "outputs": [
    {
     "name": "stdout",
     "output_type": "stream",
     "text": [
      "Standard Normalizer Constructed\n"
     ]
    }
   ],
   "source": [
    "normalizer = Standard_Normalizer(dataset.mu,dataset.std)"
   ]
  },
  {
   "cell_type": "code",
   "execution_count": 8,
   "metadata": {},
   "outputs": [
    {
     "name": "stdout",
     "output_type": "stream",
     "text": [
      "Linear Regression Model Constructed\n"
     ]
    }
   ],
   "source": [
    "model = Linear_Regression(1)"
   ]
  },
  {
   "cell_type": "code",
   "execution_count": 9,
   "metadata": {},
   "outputs": [
    {
     "name": "stdout",
     "output_type": "stream",
     "text": [
      "Epoch 0: Loss=6.238501400573105\n",
      "Epoch 1: Loss=2.708578842815156\n",
      "Epoch 2: Loss=2.579437954850785\n",
      "Epoch 3: Loss=2.5744406855279522\n",
      "Epoch 4: Loss=2.5742667834625816\n"
     ]
    }
   ],
   "source": [
    "num_epochs = 5\n",
    "print_every = 1\n",
    "\n",
    "for epoch in range(num_epochs):\n",
    "    mean_loss = []\n",
    "    for x,y in dataset:\n",
    "        x,y = normalizer((x,y))\n",
    "        y_pred = model(x)\n",
    "        loss = Loss_Function.MSE(y_pred,y)\n",
    "        \n",
    "        mean_loss.append(loss.detach().item())\n",
    "\n",
    "        \n",
    "        loss.backward()\n",
    "        model.update()\n",
    "    if (epoch+1) % print_every == 0:\n",
    "        print(\"Epoch {}: Loss={}\".format(epoch,np.mean(mean_loss)))"
   ]
  },
  {
   "cell_type": "code",
   "execution_count": 10,
   "metadata": {},
   "outputs": [],
   "source": [
    "y_predictions = []\n",
    "with torch.no_grad():\n",
    "    for x,y in dataset:\n",
    "            x,y = normalizer((x,y))\n",
    "            y_predictions.append(model(x).item())"
   ]
  },
  {
   "cell_type": "code",
   "execution_count": 11,
   "metadata": {},
   "outputs": [
    {
     "data": {
      "image/png": "[encoded data removed]",
      "text/plain": [
       "<Figure size 432x288 with 1 Axes>"
      ]
     },
     "metadata": {
      "needs_background": "light"
     },
     "output_type": "display_data"
    }
   ],
   "source": [
    "plt.plot(dataset.x.numpy(),dataset.y.numpy(),label=\"Toy Dataset\")\n",
    "plt.plot(dataset.x.numpy(),y_predictions,label=\"Regression Fit\")\n",
    "plt.xlabel(\"x\"), plt.ylabel(\"y\")\n",
    "plt.legend()\n",
    "plt.show()"
   ]
  }
 ],
 "metadata": {
  "kernelspec": {
   "display_name": "Python 3",
   "language": "python",
   "name": "python3"
  },
  "language_info": {
   "codemirror_mode": {
    "name": "ipython",
    "version": 3
   },
   "file_extension": ".py",
   "mimetype": "text/x-python",
   "name": "python",
   "nbconvert_exporter": "python",
   "pygments_lexer": "ipython3",
   "version": "3.7.4"
  }
 },
 "nbformat": 4,
 "nbformat_minor": 4
}
