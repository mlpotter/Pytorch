{
 "cells": [
  {
   "cell_type": "code",
   "execution_count": 1,
   "metadata": {},
   "outputs": [],
   "source": [
    "import torch\n",
    "\n",
    "from torch.utils.data import Dataset\n",
    "from torchvision.transforms import Compose\n",
    "\n",
    "import matplotlib.pyplot as plt\n",
    "import numpy as np\n",
    "\n",
    "from sklearn.datasets import load_breast_cancer"
   ]
  },
  {
   "cell_type": "code",
   "execution_count": 2,
   "metadata": {},
   "outputs": [],
   "source": [
    "class Cancer_Dataset(Dataset):\n",
    "    \n",
    "    def __init__(self,transforms=None):\n",
    "        X,y = load_breast_cancer(return_X_y=True)\n",
    "        \n",
    "        self.mu = torch.tensor(np.mean(X,0)).view(1,-1)\n",
    "        self.sd = torch.tensor(np.std(X,0)).view(1,-1)\n",
    "        \n",
    "        self.x = torch.DoubleTensor(X)\n",
    "        self.y = torch.LongTensor(y)\n",
    "        \n",
    "        self.transforms = transforms\n",
    "        self.len = X.shape[0]\n",
    "        \n",
    "    def __getitem__(self,index):\n",
    "        sample = self.x[index,:].view(1,-1),self.y[index].view(1,-1)\n",
    "        \n",
    "        if self.transforms:\n",
    "            sample = self.transforms(sample)\n",
    "        \n",
    "        return sample\n",
    "    \n",
    "    def __len__(self):\n",
    "        return self.len"
   ]
  },
  {
   "cell_type": "code",
   "execution_count": 3,
   "metadata": {},
   "outputs": [],
   "source": [
    "class Standard_Normalizer(object):\n",
    "    def __init__(self,mu,std):\n",
    "        self.mu = mu\n",
    "        self.std = std\n",
    "        \n",
    "    def __call__(self,sample):\n",
    "        x = sample[0]\n",
    "        y = sample[1]\n",
    "        \n",
    "        x = (x-self.mu)/self.std\n",
    "        sample = x,y\n",
    "        return sample"
   ]
  },
  {
   "cell_type": "code",
   "execution_count": 4,
   "metadata": {},
   "outputs": [],
   "source": [
    "class Logistic_Regression(object):\n",
    "    \n",
    "    def __init__(self,num_input):\n",
    "        self.number_of_features = num_input\n",
    "        self.bias = torch.tensor([[1]],dtype=torch.float64,requires_grad=True)\n",
    "        self.weights = torch.randn((num_input,1),dtype=torch.float64,requires_grad=True)\n",
    "        \n",
    "    def __call__(self,x):\n",
    "        y = 1/(1+torch.exp(-torch.mm(x,self.weights+self.bias)))\n",
    "        return torch.cat((1-y,y),1)\n",
    "    \n",
    "    def update(self,alpha=.1):\n",
    "        with torch.no_grad():\n",
    "            self.weights -= self.weights.grad * alpha\n",
    "            self.weights.grad.zero_()\n",
    "\n",
    "            self.bias -= self.bias.grad * alpha\n",
    "            self.bias.grad.zero_()"
   ]
  },
  {
   "cell_type": "code",
   "execution_count": 5,
   "metadata": {},
   "outputs": [],
   "source": [
    "criterion = torch.nn.NLLLoss()"
   ]
  },
  {
   "cell_type": "code",
   "execution_count": 6,
   "metadata": {},
   "outputs": [],
   "source": [
    "dataset = Cancer_Dataset()\n",
    "normalizer = Standard_Normalizer(dataset.mu,dataset.sd)"
   ]
  },
  {
   "cell_type": "code",
   "execution_count": 7,
   "metadata": {},
   "outputs": [],
   "source": [
    "model = Logistic_Regression(30)"
   ]
  },
  {
   "cell_type": "code",
   "execution_count": 37,
   "metadata": {
    "scrolled": false
   },
   "outputs": [
    {
     "name": "stdout",
     "output_type": "stream",
     "text": [
      "Epoch 2: loss=-0.9872234501425587\n",
      "Epoch 4: loss=-0.9872482354956467\n",
      "Epoch 6: loss=-0.987273558881205\n",
      "Epoch 8: loss=-0.9872991657707604\n",
      "Epoch 10: loss=-0.987324840611743\n"
     ]
    }
   ],
   "source": [
    "i = 0\n",
    "print_every = 2\n",
    "for epoch in range(10):\n",
    "    l = []\n",
    "    for x,y in dataset:\n",
    "        x,y = normalizer((x,y))\n",
    "        y_pred = model(x)\n",
    "        loss = criterion(y_pred,y.squeeze(1))\n",
    "\n",
    "        loss.backward()\n",
    "\n",
    "        l.append(loss.detach().item())\n",
    "        \n",
    "        model.update()\n",
    "\n",
    "    if (epoch+1) % print_every == 0:\n",
    "        print(\"Epoch {}: loss={}\".format(epoch+1,np.mean(l)))"
   ]
  },
  {
   "cell_type": "code",
   "execution_count": 38,
   "metadata": {},
   "outputs": [],
   "source": [
    "with torch.no_grad():\n",
    "    predictions = []\n",
    "    for x,y in dataset:\n",
    "        x,y = normalizer((x,y))\n",
    "        y_pred = model(x)\n",
    "        predictions.append(y_pred.argmax().item())"
   ]
  },
  {
   "cell_type": "code",
   "execution_count": 39,
   "metadata": {},
   "outputs": [
    {
     "name": "stdout",
     "output_type": "stream",
     "text": [
      "Accuracy 0.9894551845342706\n"
     ]
    }
   ],
   "source": [
    "print(\"Accuracy\",np.mean(dataset.y.numpy() == np.array(predictions)))"
   ]
  }
 ],
 "metadata": {
  "kernelspec": {
   "display_name": "Python 3",
   "language": "python",
   "name": "python3"
  },
  "language_info": {
   "codemirror_mode": {
    "name": "ipython",
    "version": 3
   },
   "file_extension": ".py",
   "mimetype": "text/x-python",
   "name": "python",
   "nbconvert_exporter": "python",
   "pygments_lexer": "ipython3",
   "version": "3.7.4"
  }
 },
 "nbformat": 4,
 "nbformat_minor": 4
}
